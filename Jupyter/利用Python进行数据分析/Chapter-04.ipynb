{
 "cells": [
  {
   "cell_type": "markdown",
   "metadata": {},
   "source": [
    "# Numpy"
   ]
  },
  {
   "cell_type": "code",
   "execution_count": 2,
   "metadata": {},
   "outputs": [
    {
     "data": {
      "text/plain": [
       "array([[-0.55587479, -0.26886115,  2.41131333],\n",
       "       [-0.74760025, -1.5951533 ,  2.0892355 ]])"
      ]
     },
     "execution_count": 2,
     "metadata": {},
     "output_type": "execute_result"
    }
   ],
   "source": [
    "import numpy as np\n",
    "data=np.random.randn(2,3)\n",
    "data"
   ]
  },
  {
   "cell_type": "code",
   "execution_count": 8,
   "metadata": {},
   "outputs": [
    {
     "data": {
      "text/plain": [
       "dtype('float64')"
      ]
     },
     "execution_count": 8,
     "metadata": {},
     "output_type": "execute_result"
    }
   ],
   "source": [
    "data*10\n",
    "data.shape\n",
    "data.dtype"
   ]
  },
  {
   "cell_type": "code",
   "execution_count": 29,
   "metadata": {
    "scrolled": true
   },
   "outputs": [
    {
     "data": {
      "text/plain": [
       "array([[1., 0., 0.],\n",
       "       [0., 1., 0.],\n",
       "       [0., 0., 1.]])"
      ]
     },
     "execution_count": 29,
     "metadata": {},
     "output_type": "execute_result"
    }
   ],
   "source": [
    "np.eye(3)\n",
    "# np.identity(3)"
   ]
  },
  {
   "cell_type": "code",
   "execution_count": 84,
   "metadata": {},
   "outputs": [
    {
     "data": {
      "text/plain": [
       "array([  0,   1,   2,   3,   4, 789, 789, 789,   8,   9])"
      ]
     },
     "execution_count": 84,
     "metadata": {},
     "output_type": "execute_result"
    }
   ],
   "source": [
    "# 数组切片是原始数组的视图，这意味着数据不会被复制，视图上的任何修改都会直接反映到源数组上\n",
    "arr=np.arange(10)\n",
    "arr[5:8]=12\n",
    "arr\n",
    "arr_slice = arr[5:8]         #明确地进行复制 arr[5:8].copy()\n",
    "arr_slice[1]=456\n",
    "arr\n",
    "arr_slice[:]=789\n",
    "arr"
   ]
  },
  {
   "cell_type": "code",
   "execution_count": 90,
   "metadata": {},
   "outputs": [
    {
     "data": {
      "text/plain": [
       "7"
      ]
     },
     "execution_count": 90,
     "metadata": {},
     "output_type": "execute_result"
    }
   ],
   "source": [
    "names = np.array(['Bob', 'Joe', 'Will', 'Bob', 'Will','Joe', 'Joe'])\n",
    "names.size"
   ]
  },
  {
   "cell_type": "code",
   "execution_count": 99,
   "metadata": {},
   "outputs": [
    {
     "data": {
      "text/plain": [
       "array([ 4, 23, 29, 10])"
      ]
     },
     "execution_count": 99,
     "metadata": {},
     "output_type": "execute_result"
    }
   ],
   "source": [
    "# 花式索引返回的是一个一维数组，其中的元素对应各个索引元组；跟切片不一样，它总是将数据复制到新数组中。\n",
    "arr=np.arange(32).reshape((8,4))\n",
    "arr[[1, 5, 7, 2],[0, 3, 1, 2]]\n",
    "# arr[[1, 5, 7, 2]][:,[0, 3, 1, 2]]"
   ]
  },
  {
   "cell_type": "code",
   "execution_count": 181,
   "metadata": {},
   "outputs": [
    {
     "data": {
      "text/plain": [
       "array([[ 0,  5, 10],\n",
       "       [ 1,  6, 11],\n",
       "       [ 2,  7, 12],\n",
       "       [ 3,  8, 13],\n",
       "       [ 4,  9, 14]])"
      ]
     },
     "execution_count": 181,
     "metadata": {},
     "output_type": "execute_result"
    }
   ],
   "source": [
    "# 数组转置返回的是源数据的视图（不会进行任何复制操作）\n",
    "arr=np.arange(15).reshape((3,5))\n",
    "arr\n",
    "# 轴对换：\n",
    "arr.T\n",
    "# 计算矩阵内积：\n",
    "# np.dot(arr,arr.T)\n",
    "# np.dot(arr.T,arr)"
   ]
  },
  {
   "cell_type": "code",
   "execution_count": 109,
   "metadata": {},
   "outputs": [
    {
     "data": {
      "text/plain": [
       "array([[ 6,  8],\n",
       "       [10, 12]])"
      ]
     },
     "execution_count": 109,
     "metadata": {},
     "output_type": "execute_result"
    }
   ],
   "source": [
    "np.add(([[1,2],[3,4]]),([[5,6],[7,8]]))"
   ]
  },
  {
   "cell_type": "code",
   "execution_count": 140,
   "metadata": {},
   "outputs": [
    {
     "name": "stdout",
     "output_type": "stream",
     "text": [
      "Wall time: 0 ns\n"
     ]
    },
    {
     "data": {
      "text/plain": [
       "array([1.1, 2.2, 1.3, 1.4, 2.5])"
      ]
     },
     "execution_count": 140,
     "metadata": {},
     "output_type": "execute_result"
    }
   ],
   "source": [
    "xarr = np.array([1.1, 1.2, 1.3, 1.4, 1.5])\n",
    "yarr = np.array([2.1, 2.2, 2.3, 2.4, 2.5])\n",
    "cond = np.array([True, False, True, True, False])\n",
    "# [(x if c else y) for x, y, c in zip(xarr, yarr, cond)]\n",
    "%time np.where(cond,xarr,yarr)     #%timeit"
   ]
  },
  {
   "cell_type": "code",
   "execution_count": 165,
   "metadata": {},
   "outputs": [
    {
     "data": {
      "text/plain": [
       "array([[-1.8245, -0.8948, -1.7415],\n",
       "       [-0.4457,  0.0909, -0.9616],\n",
       "       [ 0.218 ,  0.4684, -0.3501],\n",
       "       [ 0.6033,  0.6254, -0.2555],\n",
       "       [ 1.1074,  1.2636,  1.0229]])"
      ]
     },
     "execution_count": 165,
     "metadata": {},
     "output_type": "execute_result"
    }
   ],
   "source": [
    "arr=np.array([[ 0.6033, 1.2636, -0.2555],\n",
    "[-0.4457, 0.4684, -0.9616],\n",
    "[-1.8245, 0.6254, 1.0229],\n",
    "[ 1.1074, 0.0909, -0.3501],\n",
    "[ 0.218 , -0.8948, -1.7415]])\n",
    "arr.sort(1)     #按行排序\n",
    "arr"
   ]
  },
  {
   "cell_type": "code",
   "execution_count": 182,
   "metadata": {},
   "outputs": [
    {
     "data": {
      "text/plain": [
       "array([ 6., 15.])"
      ]
     },
     "execution_count": 182,
     "metadata": {},
     "output_type": "execute_result"
    }
   ],
   "source": [
    "x = np.array([[1., 2., 3.], [4., 5., 6.]])\n",
    "x.dot(np.ones(3))"
   ]
  },
  {
   "cell_type": "code",
   "execution_count": 186,
   "metadata": {},
   "outputs": [
    {
     "data": {
      "text/plain": [
       "matrix([[1, 2, 3]])"
      ]
     },
     "execution_count": 186,
     "metadata": {},
     "output_type": "execute_result"
    }
   ],
   "source": [
    "a1=np.array([1,2,3])\n",
    "np.mat(a1)"
   ]
  },
  {
   "cell_type": "code",
   "execution_count": 199,
   "metadata": {},
   "outputs": [
    {
     "data": {
      "text/plain": [
       "array([0.55776083, 0.96583653, 0.1471569 , 0.029647  , 0.59389349,\n",
       "       0.1140657 , 0.95080985, 0.32570741, 0.19361869, 0.45781165])"
      ]
     },
     "execution_count": 199,
     "metadata": {},
     "output_type": "execute_result"
    }
   ],
   "source": [
    "np.random.rand(10)"
   ]
  },
  {
   "cell_type": "code",
   "execution_count": 204,
   "metadata": {},
   "outputs": [
    {
     "data": {
      "text/plain": [
       "array([[  1,   0,  -1, ...,  76,  75,  74],\n",
       "       [ -1,  -2,  -1, ...,  32,  31,  30],\n",
       "       [  1,   2,   1, ...,  22,  21,  20],\n",
       "       ...,\n",
       "       [ -1,   0,   1, ...,  30,  29,  30],\n",
       "       [  1,   2,   3, ...,  46,  47,  46],\n",
       "       [  1,   2,   3, ..., -22, -23, -24]], dtype=int32)"
      ]
     },
     "execution_count": 204,
     "metadata": {},
     "output_type": "execute_result"
    }
   ],
   "source": [
    "nwalks = 5000\n",
    "nsteps = 1000\n",
    "draws=np.random.randint(0,2,size=(nwalks,nsteps))\n",
    "steps=np.where(draws>0,1,-1)\n",
    "walks=steps.cumsum(1)\n",
    "walks"
   ]
  },
  {
   "cell_type": "code",
   "execution_count": 245,
   "metadata": {},
   "outputs": [
    {
     "data": {
      "text/plain": [
       "5000000"
      ]
     },
     "execution_count": 245,
     "metadata": {},
     "output_type": "execute_result"
    }
   ],
   "source": [
    "walks.max()\n",
    "walks.min()\n",
    "walks.size"
   ]
  },
  {
   "cell_type": "code",
   "execution_count": 301,
   "metadata": {},
   "outputs": [
    {
     "data": {
      "text/plain": [
       "3435"
      ]
     },
     "execution_count": 301,
     "metadata": {},
     "output_type": "execute_result"
    }
   ],
   "source": [
    "hits30=(np.abs(walks)>=30).any(1)\n",
    "hits30.sum()"
   ]
  },
  {
   "cell_type": "code",
   "execution_count": 292,
   "metadata": {},
   "outputs": [
    {
     "name": "stdout",
     "output_type": "stream",
     "text": [
      "均值: 496.2826783114993\n",
      "方差: 57062.12999107992\n",
      "标准差: 238.87680923664382\n",
      "中值: 469.0\n"
     ]
    }
   ],
   "source": [
    "crossing_time=(np.abs(walks[hits30])>=30).argmax(1)\n",
    "print('均值:',crossing_time.mean())\n",
    "print('方差:',crossing_time.var())      \n",
    "print('标准差:',crossing_time.std())      \n",
    "print('中值:',np.median(crossing_time)) "
   ]
  }
 ],
 "metadata": {
  "kernelspec": {
   "display_name": "Python 3",
   "language": "python",
   "name": "python3"
  },
  "language_info": {
   "codemirror_mode": {
    "name": "ipython",
    "version": 3
   },
   "file_extension": ".py",
   "mimetype": "text/x-python",
   "name": "python",
   "nbconvert_exporter": "python",
   "pygments_lexer": "ipython3",
   "version": "3.6.5"
  }
 },
 "nbformat": 4,
 "nbformat_minor": 2
}
