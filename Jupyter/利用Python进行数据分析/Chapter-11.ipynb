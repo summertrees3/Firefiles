{
 "cells": [
  {
   "cell_type": "markdown",
   "metadata": {},
   "source": [
    "# 时间序列"
   ]
  },
  {
   "cell_type": "code",
   "execution_count": 25,
   "metadata": {},
   "outputs": [],
   "source": [
    "import numpy as np\n",
    "import pandas as pd"
   ]
  },
  {
   "cell_type": "markdown",
   "metadata": {},
   "source": [
    "-----日期和时间数据类型及工具-----"
   ]
  },
  {
   "cell_type": "code",
   "execution_count": 26,
   "metadata": {},
   "outputs": [
    {
     "data": {
      "text/plain": [
       "3913"
      ]
     },
     "execution_count": 26,
     "metadata": {},
     "output_type": "execute_result"
    }
   ],
   "source": [
    "from datetime import datetime\n",
    "datetime.now()\n",
    "delta=datetime.now() -  datetime(2008,5,12)\n",
    "delta.days"
   ]
  },
  {
   "cell_type": "code",
   "execution_count": 32,
   "metadata": {},
   "outputs": [
    {
     "data": {
      "text/plain": [
       "datetime.datetime(2010, 12, 14, 0, 0)"
      ]
     },
     "execution_count": 32,
     "metadata": {},
     "output_type": "execute_result"
    }
   ],
   "source": [
    "from datetime import timedelta\n",
    "start = datetime(2011, 1, 7)\n",
    "start-timedelta(12)*2"
   ]
  },
  {
   "cell_type": "code",
   "execution_count": 54,
   "metadata": {},
   "outputs": [
    {
     "data": {
      "text/plain": [
       "'2011-01-03'"
      ]
     },
     "execution_count": 54,
     "metadata": {},
     "output_type": "execute_result"
    }
   ],
   "source": [
    "stamp = datetime(2011, 1, 3)\n",
    "str(stamp)\n",
    "stamp.strftime('%Y-%m-%d')     #%F"
   ]
  },
  {
   "cell_type": "code",
   "execution_count": 56,
   "metadata": {},
   "outputs": [
    {
     "data": {
      "text/plain": [
       "[datetime.datetime(2011, 6, 7, 0, 0), datetime.datetime(2011, 6, 8, 0, 0)]"
      ]
     },
     "execution_count": 56,
     "metadata": {},
     "output_type": "execute_result"
    }
   ],
   "source": [
    "datestrs = ['7/6/2011', '8/6/2011']\n",
    "[datetime.strptime(x, '%d/%m/%Y') for x in datestrs]"
   ]
  },
  {
   "cell_type": "code",
   "execution_count": 83,
   "metadata": {},
   "outputs": [
    {
     "data": {
      "text/plain": [
       "datetime.datetime(2011, 12, 6, 0, 0)"
      ]
     },
     "execution_count": 83,
     "metadata": {},
     "output_type": "execute_result"
    }
   ],
   "source": [
    "from dateutil.parser import parse\n",
    "parse('2011-01-03')\n",
    "parse('Jan 31, 1997 10:45 PM')\n",
    "parse('6/12/2011', dayfirst=True)"
   ]
  },
  {
   "cell_type": "code",
   "execution_count": 84,
   "metadata": {},
   "outputs": [
    {
     "data": {
      "text/plain": [
       "DatetimeIndex(['2011-07-06 12:00:00', '1997-01-31 22:45:00'], dtype='datetime64[ns]', freq=None)"
      ]
     },
     "execution_count": 84,
     "metadata": {},
     "output_type": "execute_result"
    }
   ],
   "source": [
    "# pandas的to_datetime方法可以处理成组日期、解析多种不同的日期表现形式\n",
    "datestrs = ['2011-07-06 12:00:00', 'Jan 31, 1997 10:45 PM']\n",
    "pd.to_datetime(datestrs)"
   ]
  },
  {
   "cell_type": "code",
   "execution_count": 180,
   "metadata": {},
   "outputs": [
    {
     "data": {
      "text/plain": [
       "2011-01-02    3.977299\n",
       "2011-01-07    1.451519\n",
       "2011-01-08         NaN\n",
       "2011-01-10   -4.568054\n",
       "2011-01-12         NaN\n",
       "2011-01-15         NaN\n",
       "dtype: float64"
      ]
     },
     "execution_count": 180,
     "metadata": {},
     "output_type": "execute_result"
    }
   ],
   "source": [
    "dates = [datetime(2011, 1, 2), datetime(2011, 1, 15),datetime(2011, 1, 7), datetime(2011, 1, 8),datetime(2011, 1, 10), datetime(2011, 1, 12)]\n",
    "ts=pd.Series(np.random.randn(6), index=dates)\n",
    "ts.index\n",
    "ts + ts[::2]\n",
    "# ts.sort_index()"
   ]
  },
  {
   "cell_type": "code",
   "execution_count": 130,
   "metadata": {},
   "outputs": [
    {
     "data": {
      "text/plain": [
       "2001-03-05    1.143809\n",
       "2001-03-06   -0.479233\n",
       "2001-03-07   -1.236632\n",
       "2001-03-08   -0.490350\n",
       "2001-03-09    0.889243\n",
       "Freq: D, dtype: float64"
      ]
     },
     "execution_count": 130,
     "metadata": {},
     "output_type": "execute_result"
    }
   ],
   "source": [
    "# 索引、选取、子集构造\n",
    "long_ts=pd.Series(np.random.randn(1000), index=pd.date_range('20000101', periods=1000))\n",
    "long_ts['2001-05']\n",
    "long_ts[datetime(2001, 3, 5):datetime(2001, 3, 9)]"
   ]
  },
  {
   "cell_type": "code",
   "execution_count": 190,
   "metadata": {},
   "outputs": [
    {
     "data": {
      "text/html": [
       "<div>\n",
       "<style scoped>\n",
       "    .dataframe tbody tr th:only-of-type {\n",
       "        vertical-align: middle;\n",
       "    }\n",
       "\n",
       "    .dataframe tbody tr th {\n",
       "        vertical-align: top;\n",
       "    }\n",
       "\n",
       "    .dataframe thead th {\n",
       "        text-align: right;\n",
       "    }\n",
       "</style>\n",
       "<table border=\"1\" class=\"dataframe\">\n",
       "  <thead>\n",
       "    <tr style=\"text-align: right;\">\n",
       "      <th></th>\n",
       "      <th>Colorado</th>\n",
       "      <th>Texas</th>\n",
       "      <th>New York</th>\n",
       "      <th>Ohio</th>\n",
       "    </tr>\n",
       "  </thead>\n",
       "  <tbody>\n",
       "    <tr>\n",
       "      <th>2001-05-02</th>\n",
       "      <td>0.115950</td>\n",
       "      <td>0.384756</td>\n",
       "      <td>0.977709</td>\n",
       "      <td>-0.982272</td>\n",
       "    </tr>\n",
       "    <tr>\n",
       "      <th>2001-05-09</th>\n",
       "      <td>-0.643140</td>\n",
       "      <td>0.734757</td>\n",
       "      <td>-0.923890</td>\n",
       "      <td>0.108317</td>\n",
       "    </tr>\n",
       "    <tr>\n",
       "      <th>2001-05-16</th>\n",
       "      <td>0.469181</td>\n",
       "      <td>-0.578608</td>\n",
       "      <td>0.270036</td>\n",
       "      <td>0.983882</td>\n",
       "    </tr>\n",
       "    <tr>\n",
       "      <th>2001-05-23</th>\n",
       "      <td>0.295735</td>\n",
       "      <td>-0.567054</td>\n",
       "      <td>0.246681</td>\n",
       "      <td>-0.647261</td>\n",
       "    </tr>\n",
       "    <tr>\n",
       "      <th>2001-05-30</th>\n",
       "      <td>-0.964079</td>\n",
       "      <td>-1.174995</td>\n",
       "      <td>1.004061</td>\n",
       "      <td>-0.020727</td>\n",
       "    </tr>\n",
       "  </tbody>\n",
       "</table>\n",
       "</div>"
      ],
      "text/plain": [
       "            Colorado     Texas  New York      Ohio\n",
       "2001-05-02  0.115950  0.384756  0.977709 -0.982272\n",
       "2001-05-09 -0.643140  0.734757 -0.923890  0.108317\n",
       "2001-05-16  0.469181 -0.578608  0.270036  0.983882\n",
       "2001-05-23  0.295735 -0.567054  0.246681 -0.647261\n",
       "2001-05-30 -0.964079 -1.174995  1.004061 -0.020727"
      ]
     },
     "execution_count": 190,
     "metadata": {},
     "output_type": "execute_result"
    }
   ],
   "source": [
    "dates = pd.date_range('1/1/2000', periods=100, freq='W-WED')\n",
    "long_df = pd.DataFrame(np.random.randn(100, 4),index=dates,columns=['Colorado', 'Texas', 'New York', 'Ohio'])\n",
    "long_df.loc['2001-05'] "
   ]
  },
  {
   "cell_type": "code",
   "execution_count": 199,
   "metadata": {},
   "outputs": [
    {
     "data": {
      "text/plain": [
       "2000-01-01    1\n",
       "2000-01-02    3\n",
       "2000-01-03    1\n",
       "dtype: int64"
      ]
     },
     "execution_count": 199,
     "metadata": {},
     "output_type": "execute_result"
    }
   ],
   "source": [
    "# 带有重复索引的时间序列\n",
    "dates = pd.DatetimeIndex(['1/1/2000', '1/2/2000', '1/2/2000', '1/2/2000', '1/3/2000'])\n",
    "dup_ts = pd.Series(np.arange(5), index=dates)\n",
    "grouped = dup_ts.groupby(level=0)\n",
    "grouped.count()"
   ]
  },
  {
   "cell_type": "markdown",
   "metadata": {},
   "source": [
    "-----日期的范围、频率以及移动"
   ]
  },
  {
   "cell_type": "code",
   "execution_count": 201,
   "metadata": {},
   "outputs": [
    {
     "data": {
      "text/plain": [
       "DatetimeIndex(['2012-05-02', '2012-05-03', '2012-05-04', '2012-05-05',\n",
       "               '2012-05-06'],\n",
       "              dtype='datetime64[ns]', freq='D')"
      ]
     },
     "execution_count": 201,
     "metadata": {},
     "output_type": "execute_result"
    }
   ],
   "source": [
    "# 产生一组被规范化（normalize）到午夜的时间戳\n",
    "pd.date_range('2012-05-02 12:56:31', periods=5, normalize=True)"
   ]
  },
  {
   "cell_type": "code",
   "execution_count": 205,
   "metadata": {},
   "outputs": [
    {
     "data": {
      "text/plain": [
       "DatetimeIndex(['2000-01-01 00:00:00', '2000-01-01 04:30:00',\n",
       "               '2000-01-01 09:00:00', '2000-01-01 13:30:00',\n",
       "               '2000-01-01 18:00:00', '2000-01-01 22:30:00'],\n",
       "              dtype='datetime64[ns]', freq='270T')"
      ]
     },
     "execution_count": 205,
     "metadata": {},
     "output_type": "execute_result"
    }
   ],
   "source": [
    "# 频率和日期偏移量x\n",
    "pd.date_range('2000-01-01', '2000-01-01 23:59', freq='4h30min')"
   ]
  },
  {
   "cell_type": "code",
   "execution_count": 224,
   "metadata": {},
   "outputs": [
    {
     "name": "stdout",
     "output_type": "stream",
     "text": [
      "2000-01-31    0.639105\n",
      "2000-02-29    0.093030\n",
      "2000-03-31   -0.473039\n",
      "2000-04-30   -0.546000\n",
      "Freq: M, dtype: float64\n"
     ]
    },
    {
     "data": {
      "text/plain": [
       "2000-03-31    0.639105\n",
       "2000-04-30    0.093030\n",
       "2000-05-31   -0.473039\n",
       "2000-06-30   -0.546000\n",
       "Freq: M, dtype: float64"
      ]
     },
     "execution_count": 224,
     "metadata": {},
     "output_type": "execute_result"
    }
   ],
   "source": [
    "# 移动（超前和滞后）数据\n",
    "ts = pd.Series(np.random.randn(4), index=pd.date_range('1/1/2000', periods=4, freq='M'))\n",
    "print(ts)\n",
    "ts.shift(2)\n",
    "# 如果频率已知，则可以将其传给shift以便实现对时间戳进行位移而不是对数据进行简单位移\n",
    "ts.shift(2, freq='M')"
   ]
  },
  {
   "cell_type": "code",
   "execution_count": 236,
   "metadata": {},
   "outputs": [
    {
     "data": {
      "text/plain": [
       "2000-02-03    0.639105\n",
       "2000-03-03    0.093030\n",
       "2000-04-03   -0.473039\n",
       "2000-05-03   -0.546000\n",
       "dtype: float64"
      ]
     },
     "execution_count": 236,
     "metadata": {},
     "output_type": "execute_result"
    }
   ],
   "source": [
    "# 还可以使用其他频率，灵活地对数据进行超前和滞后处理\n",
    "ts.shift(3, freq='D')"
   ]
  },
  {
   "cell_type": "code",
   "execution_count": 27,
   "metadata": {},
   "outputs": [
    {
     "data": {
      "text/plain": [
       "Timestamp('2011-10-31 00:00:00')"
      ]
     },
     "execution_count": 27,
     "metadata": {},
     "output_type": "execute_result"
    }
   ],
   "source": [
    "# 通过偏移量对日期进行位移\n",
    "from pandas.tseries.offsets import Day,MonthEnd\n",
    "now=datetime(2011, 11, 17)\n",
    "now + Day()*3\n",
    "now + MonthEnd()\n",
    "\n",
    "# 通过锚点偏移量的rollforward和rollback，可以明确地将日期向前或向后滚动\n",
    "offset=MonthEnd()\n",
    "offset.rollforward(now)\n",
    "offset.rollback(now)"
   ]
  },
  {
   "cell_type": "code",
   "execution_count": 28,
   "metadata": {},
   "outputs": [
    {
     "name": "stdout",
     "output_type": "stream",
     "text": [
      "2000-01-15   -0.532256\n",
      "2000-01-19    0.223049\n",
      "2000-01-23   -0.965802\n",
      "2000-01-27   -0.469430\n",
      "2000-01-31    1.534863\n",
      "2000-02-04   -0.382326\n",
      "2000-02-08    1.184791\n",
      "2000-02-12    0.819423\n",
      "2000-02-16   -0.087615\n",
      "2000-02-20   -0.973865\n",
      "2000-02-24   -1.396216\n",
      "2000-02-28    2.064425\n",
      "2000-03-03   -0.383536\n",
      "2000-03-07   -0.233472\n",
      "2000-03-11   -0.432421\n",
      "2000-03-15    2.004297\n",
      "2000-03-19    2.061732\n",
      "2000-03-23   -0.436920\n",
      "2000-03-27   -1.013676\n",
      "2000-03-31   -1.012103\n",
      "Freq: 4D, dtype: float64\n"
     ]
    },
    {
     "data": {
      "text/plain": [
       "2000-01-31   -0.041915\n",
       "2000-02-29    0.175517\n",
       "2000-03-31    0.069238\n",
       "dtype: float64"
      ]
     },
     "execution_count": 28,
     "metadata": {},
     "output_type": "execute_result"
    }
   ],
   "source": [
    "ts = pd.Series(np.random.randn(20), index=pd.date_range('1/15/2000', periods=20, freq='4D'))\n",
    "print(ts)\n",
    "ts.groupby(offset.rollforward).mean()\n",
    "# ts.resample('M').mean()"
   ]
  },
  {
   "cell_type": "markdown",
   "metadata": {},
   "source": [
    "-----时区处理-----"
   ]
  },
  {
   "cell_type": "code",
   "execution_count": 265,
   "metadata": {},
   "outputs": [],
   "source": [
    "import pytz\n",
    "len(pytz.common_timezones)\n",
    "tz=pytz.timezone('America/New_York')"
   ]
  },
  {
   "cell_type": "code",
   "execution_count": 294,
   "metadata": {},
   "outputs": [
    {
     "name": "stdout",
     "output_type": "stream",
     "text": [
      "2012-03-09 09:30:00    0\n",
      "2012-03-10 09:30:00    1\n",
      "2012-03-11 09:30:00    2\n",
      "2012-03-12 09:30:00    3\n",
      "2012-03-13 09:30:00    4\n",
      "2012-03-14 09:30:00    5\n",
      "Freq: D, dtype: int32\n",
      "2012-03-09 09:30:00+00:00    0\n",
      "2012-03-10 09:30:00+00:00    1\n",
      "2012-03-11 09:30:00+00:00    2\n",
      "2012-03-12 09:30:00+00:00    3\n",
      "2012-03-13 09:30:00+00:00    4\n",
      "2012-03-14 09:30:00+00:00    5\n",
      "Freq: D, dtype: int32\n"
     ]
    },
    {
     "data": {
      "text/plain": [
       "DatetimeIndex(['2012-03-09 09:30:00+08:00', '2012-03-10 09:30:00+08:00',\n",
       "               '2012-03-11 09:30:00+08:00', '2012-03-12 09:30:00+08:00',\n",
       "               '2012-03-13 09:30:00+08:00', '2012-03-14 09:30:00+08:00'],\n",
       "              dtype='datetime64[ns, Asia/Shanghai]', freq='D')"
      ]
     },
     "execution_count": 294,
     "metadata": {},
     "output_type": "execute_result"
    }
   ],
   "source": [
    "# 时区本地化和转换\n",
    "rng=pd.date_range('3/9/2012 9:30', periods=6, freq='D')\n",
    "ts=pd.Series(np.arange(len(rng)), index=rng)\n",
    "print(ts)\n",
    "# 从单纯(naive)到本地化的转换是通过tz_localize方法\n",
    "ts_utc=ts.tz_localize('UTC')\n",
    "print(ts_utc)\n",
    "# 时间序列被本地化到某个特定的时区，可以用tz_convert将其转换到别的时区\n",
    "ts_utc.tz_convert('America/New_York')\n",
    "\n",
    "# 对于上面这种时间序列（它跨越了美国东部时区的夏令时转变期），我们可以将其本地化到EST，然后转换为UTC或柏林时间\n",
    "ts_eastern=ts.tz_localize('America/New_York')\n",
    "ts_eastern.tz_convert('UTC')\n",
    "ts_eastern.tz_convert('Europe/Berlin')\n",
    "\n",
    "# tz_localize和tz_convert也是DatetimeIndex的实例方法\n",
    "ts.index.tz_localize('Asia/Shanghai') "
   ]
  },
  {
   "cell_type": "code",
   "execution_count": 6,
   "metadata": {},
   "outputs": [
    {
     "name": "stdout",
     "output_type": "stream",
     "text": [
      "1299902400000000000\n",
      "1299902400000000000\n"
     ]
    }
   ],
   "source": [
    "stamp=pd.Timestamp('2011-03-12 04:00')\n",
    "stamp_utc=stamp.tz_localize('UTC')\n",
    "stamp_utc.tz_convert('America/New_York')\n",
    "\n",
    "# 时区意识型Timestamp对象在内部保存了一个UTC时间戳，这个UTC值在时区转换过程中是不会发生改变的\n",
    "print(stamp.value)\n",
    "print(stamp_utc.value)\n",
    "# 两个时间序列的时区不同，在将它们合并到一起时，最终结果就会是UTC"
   ]
  },
  {
   "cell_type": "code",
   "execution_count": 11,
   "metadata": {},
   "outputs": [],
   "source": [
    "p = pd.Period('2012Q4', freq='Q-JAN')\n",
    "# 获取该季度倒数第二个工作日下午4点的时间戳\n",
    "p4pm = (p.asfreq('B', 'e') - 1).asfreq('T', 's') + 16* 60"
   ]
  },
  {
   "cell_type": "code",
   "execution_count": 12,
   "metadata": {},
   "outputs": [
    {
     "data": {
      "text/plain": [
       "DatetimeIndex(['2000-01-31', '2000-02-29', '2000-03-31'], dtype='datetime64[ns]', freq='M')"
      ]
     },
     "execution_count": 12,
     "metadata": {},
     "output_type": "execute_result"
    }
   ],
   "source": [
    "rng = pd.date_range('2000-01-01', periods=3, freq='M')\n",
    "rng"
   ]
  },
  {
   "cell_type": "code",
   "execution_count": 21,
   "metadata": {},
   "outputs": [
    {
     "name": "stdout",
     "output_type": "stream",
     "text": [
      "     year  quarter   realgdp  realcons  realinv  realgovt  realdpi    cpi  \\\n",
      "0  1959.0      1.0  2710.349    1707.4  286.898   470.045   1886.9  28.98   \n",
      "1  1959.0      2.0  2778.801    1733.7  310.859   481.301   1919.7  29.15   \n",
      "2  1959.0      3.0  2775.488    1751.8  289.226   491.260   1916.4  29.35   \n",
      "3  1959.0      4.0  2785.204    1753.7  299.356   484.052   1931.3  29.37   \n",
      "4  1960.0      1.0  2847.699    1770.5  331.722   462.199   1955.5  29.54   \n",
      "\n",
      "      m1  tbilrate  unemp      pop  infl  realint  \n",
      "0  139.7      2.82    5.8  177.146  0.00     0.00  \n",
      "1  141.7      3.08    5.1  177.830  2.34     0.74  \n",
      "2  140.5      3.82    5.3  178.657  2.74     1.09  \n",
      "3  140.0      4.33    5.6  179.386  0.27     4.06  \n",
      "4  139.6      3.50    5.2  180.007  2.31     1.19  \n"
     ]
    },
    {
     "data": {
      "text/plain": [
       "1959Q1    0.00\n",
       "1959Q2    2.34\n",
       "1959Q3    2.74\n",
       "Freq: Q-DEC, Name: infl, dtype: float64"
      ]
     },
     "execution_count": 21,
     "metadata": {},
     "output_type": "execute_result"
    }
   ],
   "source": [
    "data = pd.read_csv('E:\\\\useFiles\\\\examples\\\\macrodata.csv')\n",
    "print(data.head(5))\n",
    "# 通过将年度和季度数组以及一个频率传入PeriodIndex，可以将它们合并成DateFrame的一个索引\n",
    "index=pd.PeriodIndex(year=data.year, quarter=data.quarter, freq='Q-DEC')\n",
    "index\n",
    "data.index = index\n",
    "data.infl[:3]"
   ]
  },
  {
   "cell_type": "markdown",
   "metadata": {},
   "source": [
    "-----重采样及频率转换-----"
   ]
  },
  {
   "cell_type": "code",
   "execution_count": 23,
   "metadata": {},
   "outputs": [
    {
     "data": {
      "text/plain": [
       "2000-01    0.090919\n",
       "2000-02   -0.082632\n",
       "2000-03    0.117141\n",
       "2000-04    0.184781\n",
       "Freq: M, dtype: float64"
      ]
     },
     "execution_count": 23,
     "metadata": {},
     "output_type": "execute_result"
    }
   ],
   "source": [
    "rng = pd.date_range('2000-01-01', periods=100, freq='D')\n",
    "ts = pd.Series(np.random.randn(len(rng)), index=rng)\n",
    "ts.resample('M').mean()\n",
    "ts.resample('M', kind='period').mean()"
   ]
  },
  {
   "cell_type": "code",
   "execution_count": 47,
   "metadata": {},
   "outputs": [
    {
     "data": {
      "text/plain": [
       "1999-12-31 23:59:59     0\n",
       "2000-01-01 00:04:59    15\n",
       "2000-01-01 00:09:59    40\n",
       "2000-01-01 00:14:59    11\n",
       "Freq: 5T, dtype: int32"
      ]
     },
     "execution_count": 47,
     "metadata": {},
     "output_type": "execute_result"
    }
   ],
   "source": [
    "rng=pd.date_range('2000-01-01', periods=12, freq='T')\n",
    "ts=pd.Series(np.arange(12), index=rng)\n",
    "ts.resample('5min', closed='right').sum()\n",
    "# 传入closed='left'会让区间以左边界闭合\n",
    "ts.resample('5min', closed='left').sum()\n",
    "# 传入label='right'即可用面元的邮编界对其进行标记\n",
    "ts.resample('5min', closed='right', label='right').sum()\n",
    "# 通过loffset设置一个字符串或日期偏移量对结果索引做一些位移\n",
    "ts.resample('5min', closed='right',label='right', loffset='-1s').sum()"
   ]
  },
  {
   "cell_type": "code",
   "execution_count": 49,
   "metadata": {},
   "outputs": [
    {
     "data": {
      "text/html": [
       "<div>\n",
       "<style scoped>\n",
       "    .dataframe tbody tr th:only-of-type {\n",
       "        vertical-align: middle;\n",
       "    }\n",
       "\n",
       "    .dataframe tbody tr th {\n",
       "        vertical-align: top;\n",
       "    }\n",
       "\n",
       "    .dataframe thead th {\n",
       "        text-align: right;\n",
       "    }\n",
       "</style>\n",
       "<table border=\"1\" class=\"dataframe\">\n",
       "  <thead>\n",
       "    <tr style=\"text-align: right;\">\n",
       "      <th></th>\n",
       "      <th>open</th>\n",
       "      <th>high</th>\n",
       "      <th>low</th>\n",
       "      <th>close</th>\n",
       "    </tr>\n",
       "  </thead>\n",
       "  <tbody>\n",
       "    <tr>\n",
       "      <th>2000-01-01 00:00:00</th>\n",
       "      <td>0</td>\n",
       "      <td>5</td>\n",
       "      <td>0</td>\n",
       "      <td>5</td>\n",
       "    </tr>\n",
       "    <tr>\n",
       "      <th>2000-01-01 00:06:00</th>\n",
       "      <td>6</td>\n",
       "      <td>11</td>\n",
       "      <td>6</td>\n",
       "      <td>11</td>\n",
       "    </tr>\n",
       "  </tbody>\n",
       "</table>\n",
       "</div>"
      ],
      "text/plain": [
       "                     open  high  low  close\n",
       "2000-01-01 00:00:00     0     5    0      5\n",
       "2000-01-01 00:06:00     6    11    6     11"
      ]
     },
     "execution_count": 49,
     "metadata": {},
     "output_type": "execute_result"
    }
   ],
   "source": [
    "# OHLC重采样, 第一个值（open，开盘）、最后一个值（close，收盘）、最大值（high，最高）以及最小值（low，最低）\n",
    "ts.resample('6min').ohlc()"
   ]
  },
  {
   "cell_type": "code",
   "execution_count": 50,
   "metadata": {},
   "outputs": [
    {
     "data": {
      "text/html": [
       "<div>\n",
       "<style scoped>\n",
       "    .dataframe tbody tr th:only-of-type {\n",
       "        vertical-align: middle;\n",
       "    }\n",
       "\n",
       "    .dataframe tbody tr th {\n",
       "        vertical-align: top;\n",
       "    }\n",
       "\n",
       "    .dataframe thead th {\n",
       "        text-align: right;\n",
       "    }\n",
       "</style>\n",
       "<table border=\"1\" class=\"dataframe\">\n",
       "  <thead>\n",
       "    <tr style=\"text-align: right;\">\n",
       "      <th></th>\n",
       "      <th>Colorado</th>\n",
       "      <th>Texas</th>\n",
       "      <th>New York</th>\n",
       "      <th>Ohio</th>\n",
       "    </tr>\n",
       "  </thead>\n",
       "  <tbody>\n",
       "    <tr>\n",
       "      <th>2000-01-05</th>\n",
       "      <td>0.657978</td>\n",
       "      <td>-1.37924</td>\n",
       "      <td>0.191942</td>\n",
       "      <td>-1.091004</td>\n",
       "    </tr>\n",
       "    <tr>\n",
       "      <th>2000-01-12</th>\n",
       "      <td>0.391165</td>\n",
       "      <td>-1.16431</td>\n",
       "      <td>-1.030922</td>\n",
       "      <td>0.729574</td>\n",
       "    </tr>\n",
       "  </tbody>\n",
       "</table>\n",
       "</div>"
      ],
      "text/plain": [
       "            Colorado    Texas  New York      Ohio\n",
       "2000-01-05  0.657978 -1.37924  0.191942 -1.091004\n",
       "2000-01-12  0.391165 -1.16431 -1.030922  0.729574"
      ]
     },
     "execution_count": 50,
     "metadata": {},
     "output_type": "execute_result"
    }
   ],
   "source": [
    "frame=pd.DataFrame(np.random.randn(2,4), \n",
    "                   index=pd.date_range('2000-01-01', periods=2, freq='W-WED'), \n",
    "                   columns=['Colorado', 'Texas', 'New York', 'Ohio'])\n",
    "frame"
   ]
  },
  {
   "cell_type": "code",
   "execution_count": 69,
   "metadata": {},
   "outputs": [
    {
     "data": {
      "text/plain": [
       "<matplotlib.axes._subplots.AxesSubplot at 0x8e4dcc0>"
      ]
     },
     "execution_count": 69,
     "metadata": {},
     "output_type": "execute_result"
    },
    {
     "data": {
      "image/png": "[encoded data removed]",
      "text/plain": [
       "<Figure size 432x288 with 1 Axes>"
      ]
     },
     "metadata": {},
     "output_type": "display_data"
    }
   ],
   "source": [
    "# 移动窗口函数\n",
    "close_px_all = pd.read_csv('E:\\\\useFiles\\\\examples\\\\stock_px_2.csv', parse_dates=True, index_col=0)\n",
    "close_px=close_px_all[['AAPL', 'MSFT', 'XOM']]\n",
    "close_px.resample('B').ffill()\n",
    "close_px.AAPL.plot()\n",
    "close_px.AAPL.rolling(250).mean().plot()\n",
    "\n",
    "appl_std250=close_px.AAPL.rolling(250, min_periods=10).std()\n",
    "appl_std250[5:12]\n",
    "appl_std250.plot()"
   ]
  },
  {
   "cell_type": "code",
   "execution_count": 88,
   "metadata": {},
   "outputs": [],
   "source": [
    "# 计算扩展窗口平均，可以使用expanding\n",
    "# appl_std250.expanding().mean()"
   ]
  },
  {
   "cell_type": "code",
   "execution_count": 84,
   "metadata": {},
   "outputs": [
    {
     "name": "stdout",
     "output_type": "stream",
     "text": [
      "                      1   2  num\n",
      "2013-01-01 09:00:00  A1  B1    1\n",
      "2013-01-01 09:00:01  A2  B1    2\n",
      "2013-01-01 09:00:02  A1  B1    1\n",
      "2013-01-01 09:00:03  A2  B1    3\n",
      "2013-01-01 09:00:04  A2  B1    4\n",
      "2013-01-01 09:00:05  A1  B1    2\n",
      "2013-01-01 09:00:06  A2  B1    1\n"
     ]
    },
    {
     "data": {
      "text/plain": [
       "1   2                      \n",
       "A1  B1  2013-01-01 09:00:00    1.0\n",
       "        2013-01-01 09:00:02    2.0\n",
       "        2013-01-01 09:00:05    2.0\n",
       "A2  B1  2013-01-01 09:00:01    2.0\n",
       "        2013-01-01 09:00:03    5.0\n",
       "        2013-01-01 09:00:04    7.0\n",
       "        2013-01-01 09:00:06    5.0\n",
       "Name: num, dtype: float64"
      ]
     },
     "execution_count": 84,
     "metadata": {},
     "output_type": "execute_result"
    }
   ],
   "source": [
    "df = pd.DataFrame({'1': ['A1', 'A2', 'A1', 'A2', 'A2', 'A1', 'A2'],'2': ['B1', 'B1', 'B1', 'B1', 'B1', 'B1', 'B1'],'num': [1,2,1,3,4,2,1]}, \n",
    "                  index =pd.date_range('20130101 09:00:00', periods=7, freq='S'))\n",
    "print(df)\n",
    "df.groupby(['1', '2'])['num'].rolling('3s').sum()"
   ]
  },
  {
   "cell_type": "code",
   "execution_count": 109,
   "metadata": {},
   "outputs": [
    {
     "data": {
      "text/plain": [
       "<matplotlib.legend.Legend at 0xb8a09b0>"
      ]
     },
     "execution_count": 109,
     "metadata": {},
     "output_type": "execute_result"
    },
    {
     "data": {
      "image/png": "[encoded data removed]",
      "text/plain": [
       "<Figure size 432x288 with 1 Axes>"
      ]
     },
     "metadata": {},
     "output_type": "display_data"
    }
   ],
   "source": [
    "# 指数加权函数\n",
    "# import matplotlib.pyplot as plt\n",
    "aapl_px = close_px.AAPL['2006':'2007']\n",
    "ma60=aapl_px.rolling(30, min_periods=20).mean()\n",
    "ewma60=aapl_px.ewm(span=30).mean()\n",
    "ma60.plot(style='k--', label='Simple MA')\n",
    "ewma60.plot(style='k-', label='Ew MA')\n",
    "plt.legend()"
   ]
  },
  {
   "cell_type": "code",
   "execution_count": 116,
   "metadata": {},
   "outputs": [
    {
     "data": {
      "text/plain": [
       "<matplotlib.axes._subplots.AxesSubplot at 0xb955898>"
      ]
     },
     "execution_count": 116,
     "metadata": {},
     "output_type": "execute_result"
    },
    {
     "data": {
      "image/png": "[encoded data removed]",
      "text/plain": [
       "<Figure size 432x288 with 1 Axes>"
      ]
     },
     "metadata": {},
     "output_type": "display_data"
    }
   ],
   "source": [
    "# 二元移动窗口函数\n",
    "spx_px=close_px_all['SPX']\n",
    "spx_rets=spx_px.pct_change()\n",
    "returns=close_px.pct_change()\n",
    "# 计算某只股票与标普500指数的相关系数：调用rolling，corr聚合函数开始计算与spx_rets滚动相关系数\n",
    "corr=returns.AAPL.rolling(125, min_periods=100).corr(spx_rets)\n",
    "corr.plot()\n",
    "# 计算多只股票与标普500的相关系数，只需传入一个TimeSeries（本例中就是spx_rets）和一个DataFrame\n",
    "# returns.rolling(125, min_periods=100).corr(spx_rets)\n"
   ]
  },
  {
   "cell_type": "code",
   "execution_count": 119,
   "metadata": {},
   "outputs": [
    {
     "name": "stderr",
     "output_type": "stream",
     "text": [
      "D:\\Program\\Anaconda3\\lib\\site-packages\\ipykernel_launcher.py:5: FutureWarning: Currently, 'apply' passes the values as ndarrays to the applied function. In the future, this will change to passing it as Series objects. You need to specify 'raw=True' to keep the current behaviour, and you can pass 'raw=False' to silence this warning\n",
      "  \"\"\"\n"
     ]
    },
    {
     "data": {
      "text/plain": [
       "<matplotlib.axes._subplots.AxesSubplot at 0xcc829b0>"
      ]
     },
     "execution_count": 119,
     "metadata": {},
     "output_type": "execute_result"
    },
    {
     "data": {
      "image/png": "[encoded data removed]",
      "text/plain": [
       "<Figure size 432x288 with 1 Axes>"
      ]
     },
     "metadata": {},
     "output_type": "display_data"
    }
   ],
   "source": [
    "# 用户定义的移动窗口函数\n",
    "# 用rolling(...).quantile(q)计算样本分位数时，可能对样本中特定值的百分等级感兴趣，运用scipy.stats.percentileofscore函数\n",
    "from scipy.stats import percentileofscore\n",
    "score_at_2percent = lambda x: percentileofscore(x, 0.02)\n",
    "returns.AAPL.rolling(250).apply(score_at_2percent).plot()"
   ]
  }
 ],
 "metadata": {
  "kernelspec": {
   "display_name": "Python 3",
   "language": "python",
   "name": "python3"
  },
  "language_info": {
   "codemirror_mode": {
    "name": "ipython",
    "version": 3
   },
   "file_extension": ".py",
   "mimetype": "text/x-python",
   "name": "python",
   "nbconvert_exporter": "python",
   "pygments_lexer": "ipython3",
   "version": "3.6.5"
  }
 },
 "nbformat": 4,
 "nbformat_minor": 2
}
